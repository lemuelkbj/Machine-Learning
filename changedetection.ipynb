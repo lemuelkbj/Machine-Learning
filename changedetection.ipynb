{
  "nbformat": 4,
  "nbformat_minor": 0,
  "metadata": {
    "colab": {
      "name": "changedetection.ipynb",
      "provenance": [],
      "mount_file_id": "1j9m2xmoVgMt5xIdpH9z9D2HUa_JYrp7F",
      "authorship_tag": "ABX9TyP/IDKMnVxBSGFzefgO3ga0",
      "include_colab_link": true
    },
    "kernelspec": {
      "name": "python3",
      "display_name": "Python 3"
    }
  },
  "cells": [
    {
      "cell_type": "markdown",
      "metadata": {
        "id": "view-in-github",
        "colab_type": "text"
      },
      "source": [
        "<a href=\"https://colab.research.google.com/github/lemuelkbj/Machine-Learning/blob/master/changedetection.ipynb\" target=\"_parent\"><img src=\"https://colab.research.google.com/assets/colab-badge.svg\" alt=\"Open In Colab\"/></a>"
      ]
    },
    {
      "cell_type": "markdown",
      "metadata": {
        "id": "xnZeJKMKhC_C"
      },
      "source": [
        "# Change Detection in Remote Sensing Images using Deep Learning"
      ]
    },
    {
      "cell_type": "code",
      "metadata": {
        "id": "PSBqKeddfNNh",
        "outputId": "bddb7257-959e-4bd6-8064-5ba28c9c4f91",
        "colab": {
          "base_uri": "https://localhost:8080/"
        }
      },
      "source": [
        "import os\n",
        "import numpy as np\n",
        "from tensorflow import keras\n",
        "from pyrsgis import raster\n",
        "from pyrsgis.convert import changeDimension\n",
        "from sklearn.model_selection import train_test_split\n",
        "from sklearn.metrics import confusion_matrix, precision_score, recall_score"
      ],
      "execution_count": 1,
      "outputs": [
        {
          "output_type": "stream",
          "text": [
            "Warning! matplotlib_scalebar library not found.\n"
          ],
          "name": "stdout"
        }
      ]
    },
    {
      "cell_type": "code",
      "metadata": {
        "id": "fY4SOeRQGRcQ",
        "outputId": "8361a57b-5cf7-4449-d2a1-307b36ef9432",
        "colab": {
          "base_uri": "https://localhost:8080/"
        }
      },
      "source": [
        "!pip install pyrsgis"
      ],
      "execution_count": 2,
      "outputs": [
        {
          "output_type": "stream",
          "text": [
            "Requirement already satisfied: pyrsgis in /usr/local/lib/python3.6/dist-packages (0.3.1)\n"
          ],
          "name": "stdout"
        }
      ]
    },
    {
      "cell_type": "code",
      "metadata": {
        "id": "ociBZKIgRMYB"
      },
      "source": [
        "import os\n",
        "os.chdir(\"/content/drive/My Drive/changedetection/Landsat-Classification-Using-Neural-Network-master\")"
      ],
      "execution_count": 3,
      "outputs": []
    },
    {
      "cell_type": "code",
      "metadata": {
        "id": "6djWzUPBOWSq"
      },
      "source": [
        "mxHyderabad = \"l5_Hyderabad2011_raw.tif\""
      ],
      "execution_count": 4,
      "outputs": []
    },
    {
      "cell_type": "code",
      "metadata": {
        "id": "DUaePCA0VUFw"
      },
      "source": [
        "mxBangalore = 'l5_Bangalore2011_raw.tif'\n",
        "builtupBangalore = 'l5_Bangalore2011_builtup.tif'"
      ],
      "execution_count": 5,
      "outputs": []
    },
    {
      "cell_type": "code",
      "metadata": {
        "id": "AoH3arlaVbky"
      },
      "source": [
        "ds1, featuresBangalore = raster.read(mxBangalore, bands='all')\n",
        "ds2, labelBangalore = raster.read(builtupBangalore, bands=1)"
      ],
      "execution_count": 6,
      "outputs": []
    },
    {
      "cell_type": "code",
      "metadata": {
        "id": "F5_sUKfdPF93"
      },
      "source": [
        "ds3, featuresHyderabad = raster.read(mxHyderabad, bands='all')"
      ],
      "execution_count": 7,
      "outputs": []
    },
    {
      "cell_type": "code",
      "metadata": {
        "id": "RUZP9FiJUn1H"
      },
      "source": [
        "/content/drive/My Drive/changedetection/Landsat-Classification-Using-Neural-Network-master/l5_Hyderabad2011_raw.tif"
      ],
      "execution_count": null,
      "outputs": []
    },
    {
      "cell_type": "markdown",
      "metadata": {
        "id": "0Qn_19gNVi9H"
      },
      "source": [
        "# Preprocessing"
      ]
    },
    {
      "cell_type": "code",
      "metadata": {
        "id": "3DmBPlnOVpy1",
        "outputId": "9547792b-ab56-4bef-ec9a-0a9889ea5d97",
        "colab": {
          "base_uri": "https://localhost:8080/"
        }
      },
      "source": [
        "print(\"Bangalore Multispectral image shape: \", featuresBangalore.shape)\n",
        "print(\"Bangalore Binary built-up image shape: \", labelBangalore.shape)\n",
        "print(\"Hyderabad Multispectral image shape: \", featuresHyderabad.shape)"
      ],
      "execution_count": 8,
      "outputs": [
        {
          "output_type": "stream",
          "text": [
            "Bangalore Multispectral image shape:  (6, 2054, 2044)\n",
            "Bangalore Binary built-up image shape:  (2054, 2044)\n",
            "Hyderabad Multispectral image shape:  (6, 1318, 1056)\n"
          ],
          "name": "stdout"
        }
      ]
    },
    {
      "cell_type": "code",
      "metadata": {
        "id": "R5hpE9weeIYQ"
      },
      "source": [
        "# Clean the labelled data to replace NoData values by zero\n",
        "labelBangalore = (labelBangalore == 1).astype(int)"
      ],
      "execution_count": 9,
      "outputs": []
    },
    {
      "cell_type": "code",
      "metadata": {
        "id": "c-y2sZgweS6h",
        "outputId": "7546e597-54f3-471a-832b-7791be6b2b97",
        "colab": {
          "base_uri": "https://localhost:8080/"
        }
      },
      "source": [
        "labelBangalore"
      ],
      "execution_count": 10,
      "outputs": [
        {
          "output_type": "execute_result",
          "data": {
            "text/plain": [
              "array([[0, 0, 0, ..., 0, 0, 0],\n",
              "       [0, 0, 0, ..., 0, 0, 0],\n",
              "       [0, 0, 0, ..., 0, 0, 0],\n",
              "       ...,\n",
              "       [0, 0, 0, ..., 0, 0, 0],\n",
              "       [0, 0, 0, ..., 0, 0, 0],\n",
              "       [0, 0, 0, ..., 0, 0, 0]])"
            ]
          },
          "metadata": {
            "tags": []
          },
          "execution_count": 10
        }
      ]
    },
    {
      "cell_type": "code",
      "metadata": {
        "id": "lUSXrLk5eYoE"
      },
      "source": [
        "# Reshape the array to single dimensional array\n",
        "featuresBangalore = changeDimension(featuresBangalore)\n",
        "labelBangalore = changeDimension (labelBangalore)\n",
        "featuresHyderabad = changeDimension(featuresHyderabad)\n",
        "nBands = featuresBangalore.shape[1]"
      ],
      "execution_count": 11,
      "outputs": []
    },
    {
      "cell_type": "code",
      "metadata": {
        "id": "HHxVxjBkeZ-A",
        "outputId": "7cd38cb4-2b45-4c5c-ff07-59d31a7cad4d",
        "colab": {
          "base_uri": "https://localhost:8080/"
        }
      },
      "source": [
        "print(\"Bangalore Multispectral image shape: \", featuresBangalore.shape)\n",
        "print(\"Bangalore Binary built-up image shape: \", labelBangalore.shape)\n",
        "print(\"Hyderabad Multispectral image shape: \", featuresHyderabad.shape)"
      ],
      "execution_count": 12,
      "outputs": [
        {
          "output_type": "stream",
          "text": [
            "Bangalore Multispectral image shape:  (4198376, 6)\n",
            "Bangalore Binary built-up image shape:  (4198376,)\n",
            "Hyderabad Multispectral image shape:  (1391808, 6)\n"
          ],
          "name": "stdout"
        }
      ]
    },
    {
      "cell_type": "markdown",
      "metadata": {
        "id": "UhU16Szxelfk"
      },
      "source": [
        "# Training and Testing"
      ]
    },
    {
      "cell_type": "code",
      "metadata": {
        "id": "ua9Q2cm4epcT",
        "outputId": "3822333a-3919-41a7-b887-0c717dadd2b7",
        "colab": {
          "base_uri": "https://localhost:8080/"
        }
      },
      "source": [
        "# Split testing and training datasets\n",
        "xTrain, xTest, yTrain, yTest = train_test_split(featuresBangalore, labelBangalore, test_size=0.4, random_state=42)\n",
        "\n",
        "print(xTrain.shape)\n",
        "print(yTrain.shape)\n",
        "\n",
        "print(xTest.shape)\n",
        "print(yTest.shape)"
      ],
      "execution_count": 13,
      "outputs": [
        {
          "output_type": "stream",
          "text": [
            "(2519025, 6)\n",
            "(2519025,)\n",
            "(1679351, 6)\n",
            "(1679351,)\n"
          ],
          "name": "stdout"
        }
      ]
    },
    {
      "cell_type": "code",
      "metadata": {
        "id": "3TXR_KzJezCh",
        "outputId": "857570d0-9972-4a54-c62d-b3029910e32b",
        "colab": {
          "base_uri": "https://localhost:8080/"
        }
      },
      "source": [
        "# Normalise the data\n",
        "xTrain = xTrain / 255.0\n",
        "xTest = xTest / 255.0\n",
        "featuresHyderabad = featuresHyderabad / 255.0\n",
        "\n",
        "# Reshape the data\n",
        "xTrain = xTrain.reshape((xTrain.shape[0], 1, xTrain.shape[1]))\n",
        "xTest = xTest.reshape((xTest.shape[0], 1, xTest.shape[1]))\n",
        "featuresHyderabad = featuresHyderabad.reshape((featuresHyderabad.shape[0], 1, featuresHyderabad.shape[1]))\n",
        "\n",
        "# Print the shape of reshaped data\n",
        "print(xTrain.shape, xTest.shape, featuresHyderabad.shape)\n"
      ],
      "execution_count": 14,
      "outputs": [
        {
          "output_type": "stream",
          "text": [
            "(2519025, 1, 6) (1679351, 1, 6) (1391808, 1, 6)\n"
          ],
          "name": "stdout"
        }
      ]
    },
    {
      "cell_type": "markdown",
      "metadata": {
        "id": "wr69wE8-fied"
      },
      "source": [
        "# Building and Running the Model"
      ]
    },
    {
      "cell_type": "code",
      "metadata": {
        "id": "cL4LPVpxfmnZ"
      },
      "source": [
        "# Define the parameters of the model\n",
        "model = keras.Sequential([\n",
        "    keras.layers.Flatten(input_shape=(1, nBands)),\n",
        "    keras.layers.Dense(14, activation='relu'),\n",
        "    keras.layers.Dense(2, activation='softmax')])"
      ],
      "execution_count": 15,
      "outputs": []
    },
    {
      "cell_type": "code",
      "metadata": {
        "id": "h1NhBtj8ftIC",
        "outputId": "23f0a9f8-5404-461c-9b64-b445098f134c",
        "colab": {
          "base_uri": "https://localhost:8080/"
        }
      },
      "source": [
        "model"
      ],
      "execution_count": 16,
      "outputs": [
        {
          "output_type": "execute_result",
          "data": {
            "text/plain": [
              "<tensorflow.python.keras.engine.sequential.Sequential at 0x7ff701dfa4a8>"
            ]
          },
          "metadata": {
            "tags": []
          },
          "execution_count": 16
        }
      ]
    },
    {
      "cell_type": "code",
      "metadata": {
        "id": "9as5sqpqfpIN"
      },
      "source": [
        "# Define the accuracy metrics and parameters\n",
        "model.compile(optimizer=\"adam\", loss=\"sparse_categorical_crossentropy\", metrics=[\"accuracy\"])"
      ],
      "execution_count": 17,
      "outputs": []
    },
    {
      "cell_type": "code",
      "metadata": {
        "id": "2g7_-EDgfqg-",
        "outputId": "c5e2b969-3bcd-4752-b791-2aaac22dbc6f",
        "colab": {
          "base_uri": "https://localhost:8080/"
        }
      },
      "source": [
        "# Run the model\n",
        "model.fit(xTrain, yTrain, epochs=2)"
      ],
      "execution_count": 18,
      "outputs": [
        {
          "output_type": "stream",
          "text": [
            "Epoch 1/2\n",
            "78720/78720 [==============================] - 79s 1ms/step - loss: 0.1233 - accuracy: 0.9537\n",
            "Epoch 2/2\n",
            "78720/78720 [==============================] - 79s 1ms/step - loss: 0.1090 - accuracy: 0.9590\n"
          ],
          "name": "stdout"
        },
        {
          "output_type": "execute_result",
          "data": {
            "text/plain": [
              "<tensorflow.python.keras.callbacks.History at 0x7ff6fbe6e668>"
            ]
          },
          "metadata": {
            "tags": []
          },
          "execution_count": 18
        }
      ]
    },
    {
      "cell_type": "markdown",
      "metadata": {
        "id": "FndpLlJ-f1-O"
      },
      "source": [
        "# Prediction"
      ]
    },
    {
      "cell_type": "code",
      "metadata": {
        "id": "v1FKFTLFf5tN"
      },
      "source": [
        "# Predict for test data \n",
        "yTestPredicted = model.predict(xTest)\n",
        "yTestPredicted = yTestPredicted[:,1]"
      ],
      "execution_count": 19,
      "outputs": []
    },
    {
      "cell_type": "markdown",
      "metadata": {
        "id": "hypd1M5Wf_9h"
      },
      "source": [
        "# Performance Metrics"
      ]
    },
    {
      "cell_type": "code",
      "metadata": {
        "id": "vUnOCp-KgEKW"
      },
      "source": [
        "# Calculate and display the error metrics\n",
        "yTestPredicted = (yTestPredicted>0.5).astype(int)\n",
        "cMatrix = confusion_matrix(yTest, yTestPredicted)\n",
        "pScore = precision_score(yTest, yTestPredicted)\n",
        "rScore = recall_score(yTest, yTestPredicted)"
      ],
      "execution_count": 20,
      "outputs": []
    },
    {
      "cell_type": "code",
      "metadata": {
        "id": "0ob1tqAegv1o",
        "outputId": "44399fa5-02ef-4d8b-fa5c-51ef365066b9",
        "colab": {
          "base_uri": "https://localhost:8080/"
        }
      },
      "source": [
        "print(pScore)\n",
        "print(rScore)"
      ],
      "execution_count": 22,
      "outputs": [
        {
          "output_type": "stream",
          "text": [
            "0.8503221222934462\n",
            "0.7960146114120167\n"
          ],
          "name": "stdout"
        }
      ]
    },
    {
      "cell_type": "markdown",
      "metadata": {
        "id": "ruNNatETgS7D"
      },
      "source": [
        "Confusion Matrix"
      ]
    },
    {
      "cell_type": "code",
      "metadata": {
        "id": "jOzfWqcxgFNK",
        "outputId": "6b966fd0-dba0-499a-adee-dc6a2c73f7a9",
        "colab": {
          "base_uri": "https://localhost:8080/"
        }
      },
      "source": [
        "print(\"Confusion matrix: for 14 nodes\\n\", cMatrix)\n",
        "print(\"\\nP-Score: %.3f, R-Score: %.3f\" % (pScore, rScore))"
      ],
      "execution_count": 21,
      "outputs": [
        {
          "output_type": "stream",
          "text": [
            "Confusion matrix: for 14 nodes\n",
            " [[1453066   27810]\n",
            " [  40486  157989]]\n",
            "\n",
            "P-Score: 0.850, R-Score: 0.796\n"
          ],
          "name": "stdout"
        }
      ]
    },
    {
      "cell_type": "code",
      "metadata": {
        "id": "CPiwU5JQgHSO"
      },
      "source": [
        "predicted = model.predict(featuresHyderabad)\n",
        "predicted = predicted[:,1]"
      ],
      "execution_count": 23,
      "outputs": []
    },
    {
      "cell_type": "code",
      "metadata": {
        "id": "GboXa6abg5mN",
        "outputId": "fb01d29b-fb48-48a9-a20b-01bed9a49d1c",
        "colab": {
          "base_uri": "https://localhost:8080/"
        }
      },
      "source": [
        "predicted"
      ],
      "execution_count": 24,
      "outputs": [
        {
          "output_type": "execute_result",
          "data": {
            "text/plain": [
              "array([0.06025407, 0.05612851, 0.03471671, ..., 0.00195381, 0.05368536,\n",
              "       0.9012414 ], dtype=float32)"
            ]
          },
          "metadata": {
            "tags": []
          },
          "execution_count": 24
        }
      ]
    },
    {
      "cell_type": "code",
      "metadata": {
        "id": "cSBWnTWRgJdK"
      },
      "source": [
        "# Predict new data and export the probability raster\n",
        "prediction = np.reshape(predicted, (ds3.RasterYSize, ds3.RasterXSize))\n",
        "outFile = 'Hyderabad_2011_BuiltupNN_predicted.tif'\n",
        "raster.export(prediction, ds3, filename=outFile, dtype='float')"
      ],
      "execution_count": 25,
      "outputs": []
    }
  ]
}